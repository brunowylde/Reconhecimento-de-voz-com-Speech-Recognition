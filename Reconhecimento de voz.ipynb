{
 "cells": [
  {
   "cell_type": "markdown",
   "metadata": {},
   "source": [
    "Criando um programa com Reconhecimento de Voz, utilizando Speech Recognition"
   ]
  },
  {
   "cell_type": "code",
   "execution_count": 1,
   "metadata": {},
   "outputs": [],
   "source": [
    "# !pip install pyaudio\n",
    "# !pip install gTTS\n",
    "# !pip install playsound"
   ]
  },
  {
   "cell_type": "code",
   "execution_count": 2,
   "metadata": {},
   "outputs": [],
   "source": [
    "import speech_recognition as sr\n",
    "from gtts import gTTS\n",
    "from playsound import playsound"
   ]
  },
  {
   "cell_type": "code",
   "execution_count": 3,
   "metadata": {},
   "outputs": [
    {
     "name": "stdout",
     "output_type": "stream",
     "text": [
      "Diga alguma coisa: \n",
      "Você disse: exemplo de código em Python para reconhecimento de voz\n"
     ]
    }
   ],
   "source": [
    "#Funcao responsavel por ouvir e reconhecer a fala\n",
    "def ouvir_microfone():\n",
    "    #Habilita o microfone para ouvir o usuario\n",
    "    microfone = sr.Recognizer()\n",
    "    with sr.Microphone() as source:\n",
    "        #Chama a funcao de reducao de ruido disponivel na speech_recognition\n",
    "        microfone.adjust_for_ambient_noise(source)\n",
    "        #Avisa ao usuario que esta pronto para ouvir\n",
    "        print(\"Diga alguma coisa: \")\n",
    "        #Armazena a informacao de audio na variavel\n",
    "        audio = microfone.listen(source)\n",
    "\n",
    "    try:\n",
    "        #Passa o audio para o reconhecedor de padroes do speech_recognition\n",
    "        frase = microfone.recognize_google(audio,language='pt-BR')\n",
    "        #Após alguns segundos, retorna a frase falada\n",
    "        print(\"Você disse: \" + frase)\n",
    "\n",
    "        #Caso nao tenha reconhecido o padrao de fala, exibe esta mensagem\n",
    "    except sr.UnkownValueError:\n",
    "        print(\"Não entendi\")\n",
    "\n",
    "    return frase\n",
    "\n",
    "frase = ouvir_microfone()"
   ]
  }
 ],
 "metadata": {
  "kernelspec": {
   "display_name": "Python 3",
   "language": "python",
   "name": "python3"
  },
  "language_info": {
   "codemirror_mode": {
    "name": "ipython",
    "version": 3
   },
   "file_extension": ".py",
   "mimetype": "text/x-python",
   "name": "python",
   "nbconvert_exporter": "python",
   "pygments_lexer": "ipython3",
   "version": "3.6.5"
  }
 },
 "nbformat": 4,
 "nbformat_minor": 2
}
